{
 "cells": [
  {
   "cell_type": "markdown",
   "id": "31a7c5e5-3725-4768-bd21-1f5bfdf0eb3f",
   "metadata": {},
   "source": [
    "EDA, Cleaning, Modelling "
   ]
  },
  {
   "cell_type": "code",
   "execution_count": 1,
   "id": "4165ecbc-559c-462e-b98e-123e469a5ad6",
   "metadata": {},
   "outputs": [
    {
     "name": "stdout",
     "output_type": "stream",
     "text": [
      "testing\n"
     ]
    }
   ],
   "source": [
    "print (\"testing\")"
   ]
  },
  {
   "cell_type": "code",
   "execution_count": null,
   "id": "15e98efb-9f7e-4b83-b2ed-f7570f3ebacd",
   "metadata": {},
   "outputs": [],
   "source": []
  },
  {
   "cell_type": "code",
   "execution_count": null,
   "id": "52de3b5c-4f83-4c8c-8cdd-53a5d0f96eb7",
   "metadata": {},
   "outputs": [],
   "source": []
  }
 ],
 "metadata": {
  "kernelspec": {
   "display_name": "Python 3 (ipykernel)",
   "language": "python",
   "name": "python3"
  },
  "language_info": {
   "codemirror_mode": {
    "name": "ipython",
    "version": 3
   },
   "file_extension": ".py",
   "mimetype": "text/x-python",
   "name": "python",
   "nbconvert_exporter": "python",
   "pygments_lexer": "ipython3",
   "version": "3.8.16"
  }
 },
 "nbformat": 4,
 "nbformat_minor": 5
}
